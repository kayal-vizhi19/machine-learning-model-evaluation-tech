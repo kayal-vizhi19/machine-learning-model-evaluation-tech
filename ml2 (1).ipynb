{
 "cells": [
  {
   "cell_type": "code",
   "execution_count": 2,
   "id": "ee109f05-ce5b-4d5b-a4e2-0e873da635bf",
   "metadata": {},
   "outputs": [
    {
     "name": "stdout",
     "output_type": "stream",
     "text": [
      "Adjusted R-squared: 0.7421875\n",
      "reg no:11162220118\n"
     ]
    }
   ],
   "source": [
    "def adjusted_r_squared(r_squared, n, k):\n",
    "    adjusted_r_squared = 1 - ((1 - r_squared) * (n - 1) / (n - k - 1))\n",
    "    return adjusted_r_squared\n",
    "\n",
    "r_squared_value = 0.75\n",
    "n_obs = 100\n",
    "n_pred = 3\n",
    "\n",
    "result = adjusted_r_squared(r_squared_value, n_obs, n_pred)\n",
    "\n",
    "print(\"Adjusted R-squared:\", result)\n",
    "print(\"reg no:11162220118\")\n"
   ]
  },
  {
   "cell_type": "code",
   "execution_count": null,
   "id": "3151608d-37ff-4b40-927a-c9c837b30fd6",
   "metadata": {},
   "outputs": [],
   "source": []
  },
  {
   "cell_type": "code",
   "execution_count": null,
   "id": "4a7d4984-2191-49a7-8a59-d2ee05a0c843",
   "metadata": {},
   "outputs": [],
   "source": []
  }
 ],
 "metadata": {
  "kernelspec": {
   "display_name": "Python 3 (system-wide)",
   "language": "python",
   "name": "python3"
  },
  "language_info": {
   "codemirror_mode": {
    "name": "ipython",
    "version": 3
   },
   "file_extension": ".py",
   "mimetype": "text/x-python",
   "name": "python",
   "nbconvert_exporter": "python",
   "pygments_lexer": "ipython3",
   "version": "3.10.12"
  }
 },
 "nbformat": 4,
 "nbformat_minor": 5
}
